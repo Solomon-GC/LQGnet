{
 "cells": [
  {
   "attachments": {},
   "cell_type": "markdown",
   "metadata": {},
   "source": [
    "# Iterative Linear Quadratic Regulator\n",
    "### Inverse pendulum on a cart"
   ]
  },
  {
   "cell_type": "code",
   "execution_count": 36,
   "metadata": {},
   "outputs": [
    {
     "name": "stdout",
     "output_type": "stream",
     "text": [
      "Running on the GPU\n"
     ]
    }
   ],
   "source": [
    "# python libraries\n",
    "import numpy as np\n",
    "import matplotlib.pyplot as plt\n",
    "import matplotlib as mpl\n",
    "\n",
    "import os\n",
    "import sys\n",
    "sys.path.insert(1, 'Simulations' + os.path.sep + 'Toy_problems' + os.path.sep)\n",
    "import torch \n",
    "from torch.autograd.functional import jacobian, hessian\n",
    "from torch.autograd import grad\n",
    "\n",
    "from scipy.integrate import solve_ivp\n",
    "\n",
    "if torch.cuda.is_available():\n",
    "   dev = torch.device(\"cuda:0\")  # you can continue going on here, like cuda:1 cuda:2....etc.\n",
    "   torch.set_default_tensor_type('torch.cuda.FloatTensor')\n",
    "   print(\"Running on the GPU\")\n",
    "else:\n",
    "   dev = torch.device(\"cpu\")\n",
    "   print(\"Running on the CPU\")"
   ]
  },
  {
   "cell_type": "code",
   "execution_count": 2,
   "metadata": {},
   "outputs": [
    {
     "name": "stdout",
     "output_type": "stream",
     "text": [
      "x = \n",
      "tensor([ 0.2524,  1.5932, -0.5689, -0.2848], requires_grad=True)\n",
      "u = \n",
      "tensor([-0.1375], requires_grad=True)\n",
      "tensor([[1., 0., 0., 0.],\n",
      "        [0., 1., 0., 0.],\n",
      "        [0., 0., 1., 0.],\n",
      "        [0., 0., 0., 1.]])\n",
      "tensor([[1.]])\n",
      "tensor(3.0251, grad_fn=<AddBackward0>)\n",
      "tensor(3.0069, grad_fn=<DotBackward0>)\n"
     ]
    }
   ],
   "source": [
    "nx = 4\n",
    "nu = 1\n",
    "x = torch.randn(nx, requires_grad=True)\n",
    "u = torch.randn(nu, requires_grad=True)\n",
    "\n",
    "print(\"x = \")\n",
    "print(x)\n",
    "\n",
    "print(\"u = \")\n",
    "print(u)\n",
    "\n",
    "Q = torch.eye(nx)\n",
    "print(Q)\n",
    "R = torch.eye(nu)\n",
    "print(R)\n",
    "\n",
    "def cost(x,u):\n",
    "    return (x.matmul(Q)).matmul(x) + (u.matmul(R)).matmul(u)\n",
    "\n",
    "def yf(x):\n",
    "    return x * x\n",
    "\n",
    "C = cost(x,u)\n",
    "f = yf(x)\n",
    "\n",
    "print(C)\n",
    "\n",
    "print(x.matmul(x))"
   ]
  },
  {
   "attachments": {},
   "cell_type": "markdown",
   "metadata": {},
   "source": [
    "## Iterative Linear Quadratic Regulator Derivation\n",
    "\n",
    "In this exercise we will derive the iterative Linear Quadratic Regulator (iLQR) solving the following optimization problem.\n",
    "\n",
    "$\\begin{aligned} \\min_{\\mathbf{u}[\\cdot]} \\quad & \\ell_f(\\mathbf{x}[N]) + \\sum_{n=0}^{N-1} \\ell(\\mathbf{x}[n],\\mathbf{u}[n]) \\\\ \\text{subject to} \\quad & \\mathbf{x}[n+1] = (\\mathbf{x}[n], \\mathbf{u}[n]), \\quad \\forall n\\in[0, N-1] \\\\ & \\mathbf{x}[0] = \\mathbf{x}_0\\end{aligned}$\n",
    "\n",
    "After completing this exercise you will be able to write your own MPC solver from scratch without any proprietary or third-party software (with the exception of auto-differentiation). You will derive all necessary equations yourself.\n",
    "While the iLQR algorithm will be capable of solving general model predictive control problems in the form described above, we will apply it to the control of a vehicle. \n",
    "\n",
    "### Pendulum on cart control problem\n",
    "Before we start the actual derivation of iLQR we will take a look at the pendulum on cart dynamics and cost functions."
   ]
  },
  {
   "attachments": {},
   "cell_type": "markdown",
   "metadata": {},
   "source": [
    "Using the same convention as the book, we describe the state of the cart-pole as the vector $\\mathbf{x} = [x, \\dot{x}, \\theta, \\dot{\\theta}]^\\top$, and we let the force on the cart be the control input $\\mathbf{u} = [f_x]$.\n",
    "\n",
    "Use [equations (16) and (17)](https://underactuated.csail.mit.edu/acrobot.html#cart_pole) from the textbook for the accelerations:\n",
    "\n",
    "$$\\ddot{x} = \\frac{1}{m_c + m_p \\sin^2\\theta}[ f_x+m_p \\sin\\theta (l \\dot\\theta^2 + g\\cos\\theta)]$$\n",
    "\n",
    "$$\\ddot{\\theta} = \\frac{1}{l(m_c + m_p \\sin^2\\theta)}[ -f_x \\cos\\theta - m_p l \\dot\\theta^2 \\cos\\theta \\sin\\theta - (m_c + m_p) g \\sin\\theta]$$\n",
    "\n",
    "Complete the state-space model of the cart-pole by implementing the vector $\\dot{\\mathbf{x}} = [\\dot{x}, \\ddot{x}, \\dot{\\theta}, \\ddot{\\theta}]^\\top$ as $\\dot{\\mathbf{x}} = {\\bf f}(\\mathbf{x}, \\mathbf{u})$. Implement the function ${\\bf f}$ below to return $\\dot{\\mathbf{x}}$."
   ]
  },
  {
   "cell_type": "code",
   "execution_count": 2,
   "metadata": {},
   "outputs": [],
   "source": [
    "# Compute trajectory\n",
    "dt = 0.01\n",
    "T = 5\n",
    "num_time_pts = int(T / dt)\n",
    "t = torch.linspace(0, T, num_time_pts)"
   ]
  },
  {
   "cell_type": "code",
   "execution_count": 3,
   "metadata": {},
   "outputs": [],
   "source": [
    "n_x = 4\n",
    "n_u = 1\n",
    "m_p = 0.3 #1.0     # pendulum (bob) mass [kg]\n",
    "m_c = 1.0     # cart mass [kg]\n",
    "g = 9.81      # gravity [m/s^2]\n",
    "l = 1.0       # length of a rod [m]\n",
    "\n",
    "# def pendulum_on_cart_continuous_dynamics(t, x, u):\n",
    "def pendulum_on_cart_continuous_dynamics(x, u):\n",
    "    # x = [x_c, v_c, theta_p, omega_p] \n",
    "    # u = control input\n",
    "    theta = x[2]\n",
    "    s = torch.sin(theta)\n",
    "    c = torch.cos(theta)\n",
    "\n",
    "    theta_dot = x[-1]\n",
    "    theta_dot_2 = -(1/( l*(m_c+m_p*(s**2)) ))*( (m_p+m_c)*g*s+m_p*l*(theta_dot**2)*s*c+u[0]*c )\n",
    "    x_dot = x[1]\n",
    "    x_dot_2 = (u[0]+m_p*g*s*c+m_p*l*(theta_dot**2)*s)/(m_c+m_p*(s**2)) \n",
    "    x_d = torch.tensor([\n",
    "        x_dot,\n",
    "        x_dot_2,\n",
    "        theta_dot,\n",
    "        theta_dot_2 \n",
    "    ], requires_grad=True)\n",
    "    return x_d"
   ]
  },
  {
   "cell_type": "code",
   "execution_count": 4,
   "metadata": {},
   "outputs": [],
   "source": [
    "def rk4singlestep_new(x0, u0):\n",
    "    \"\"\"\n",
    "        This function does a single 4th-order Runge-Kutta\n",
    "    \"\"\"\n",
    "    f1 = pendulum_on_cart_continuous_dynamics(x0, u0)\n",
    "    f2 = pendulum_on_cart_continuous_dynamics(x0 + (dt/2) * f1, u0)\n",
    "    f3 = pendulum_on_cart_continuous_dynamics(x0 + (dt/2) * f2, u0)\n",
    "    f4 = pendulum_on_cart_continuous_dynamics(x0 + dt * f3, u0)\n",
    "    x_next = x0 + (dt/6) * (f1 + 2 * f2 + 2 * f3 + f4)\n",
    "\n",
    "    return x_next"
   ]
  },
  {
   "cell_type": "code",
   "execution_count": 5,
   "metadata": {},
   "outputs": [],
   "source": [
    "def rk4singlestep(fun, dt, t0, x0, u0):\n",
    "    \"\"\"\n",
    "        This function does a single 4th-order Runge-Kutta\n",
    "    \"\"\"\n",
    "\n",
    "    f1 = fun(t0, x0, u0)\n",
    "    f2 = fun(t0 + dt/2, x0 + (dt/2) * f1, u0)\n",
    "    f3 = fun(t0 + dt/2, x0 + (dt/2) * f2, u0)\n",
    "    f4 = fun(t0 + dt, x0 + dt * f3, u0)\n",
    "    x_next = x0 + (dt/6) * (f1 + 2 * f2 + 2 * f3 + f4)\n",
    "\n",
    "    return x_next\n",
    "\n",
    "def euler_single_step(fun, dt, t0, x0):\n",
    "\n",
    "    x_next = x0 + dt * fun(t0, x0)\n",
    "\n",
    "    return x_next "
   ]
  },
  {
   "attachments": {},
   "cell_type": "markdown",
   "metadata": {},
   "source": [
    "### Euler integrator (Recap)\n",
    "Euler method, also known as forward Euler method, is a 1-st order numerical procedure for solving ODEs with a given initial value. Euler method is the most basic explicit method for numerical integration of ODEs and is known as the simplest version of Runge-Kutta method.\n",
    "\n",
    "<br>\n",
    "\n",
    "Since Euler method is a 1-st order method, it means also that the local and global error (per step) is proportional to the square of the step size.\n",
    "\n",
    "<br>\n",
    "\n"
   ]
  },
  {
   "cell_type": "code",
   "execution_count": 115,
   "metadata": {},
   "outputs": [],
   "source": [
    "# def discrete_dynamics(x, u):\n",
    "#     x_next = x + dt * pendulum_on_cart_continuous_dynamics(x, u)\n",
    "#     return x_next"
   ]
  },
  {
   "attachments": {},
   "cell_type": "markdown",
   "metadata": {},
   "source": [
    "Given an initial state $\\mathbf{x}_0$ and a guess of a control trajectory $\\mathbf{u}[0:N-1]$ we roll out the state trajectory $x[0:N]$ until the time horizon $N$. Please complete the rollout function."
   ]
  },
  {
   "cell_type": "code",
   "execution_count": 6,
   "metadata": {},
   "outputs": [],
   "source": [
    "def rollout(x0, u_trj):\n",
    "    x_trj = torch.zeros((u_trj.shape[0]+1, x0.shape[0]))\n",
    "    # Define the rollout here and return the state trajectory x_trj: [N, number of states]\n",
    "    N = u_trj.shape[0]+1\n",
    "    x_trj[0] = x0 \n",
    "    for n in range(N-1):\n",
    "        # x_trj[n+1] = rk4singlestep(pendulum_on_cart_continuous_dynamics, dt, t[n], x_trj[n], u_trj[n])\n",
    "        x_trj[n+1] = rk4singlestep_new(x_trj[n], u_trj[n])\n",
    "        \n",
    "    return x_trj\n",
    "\n",
    "# Debug your implementation with this example code\n",
    "# N = 10\n",
    "# x0 = np.array([0, 0, np.pi, 0])\n",
    "# u_trj = np.zeros((N-1, n_u))\n",
    "# x_trj = rollout(x0, u_trj)"
   ]
  },
  {
   "attachments": {},
   "cell_type": "markdown",
   "metadata": {},
   "source": [
    "We define the stage cost function $\\ell$ and final cost function $\\ell_f$. The goal of these cost functions is to drive the vehicle along a circle with radius $r$ around the origin with a desired speed."
   ]
  },
  {
   "cell_type": "code",
   "execution_count": 7,
   "metadata": {},
   "outputs": [],
   "source": [
    "x_goal = torch.tensor([0.0, 0.0, np.pi, 0.0])\n",
    "def cost_stage(x, u):\n",
    "    Q = torch.tensor([[50.0, 0.0, 0.0, 0.0],[0.0, 1.0, 0.0, 0.0],[0.0, 0.0, 50.0, 0.0], [0.0, 0.0, 0.0, 1.0]])\n",
    "    R = 1.0\n",
    "    x_diff = x-x_goal\n",
    "    return (x_diff.matmul(Q)).matmul(x_diff) + R*(u**2)\n",
    "\n",
    "def cost_final(x):\n",
    "    Q = torch.tensor([[50.0, 0.0, 0.0, 0.0],[0.0, 1.0, 0.0, 0.0],[0.0, 0.0, 50.0, 0.0], [0.0, 0.0, 0.0, 1.0]])\n",
    "    x_diff = x-x_goal\n",
    "    return (x_diff.matmul(Q)).matmul(x_diff)"
   ]
  },
  {
   "attachments": {},
   "cell_type": "markdown",
   "metadata": {},
   "source": [
    "Your next task is to write the total cost function of the state and control trajectory. This is simply the sum of all stages over the control horizon and the objective from general problem formulation above."
   ]
  },
  {
   "cell_type": "code",
   "execution_count": 8,
   "metadata": {},
   "outputs": [],
   "source": [
    "def cost_trj(x_trj, u_trj):\n",
    "    total = 0.0\n",
    "    # Sum up all costs\n",
    "    N = u_trj.shape[0]+1\n",
    "    for n in range(N-1):\n",
    "        total += cost_stage(x_trj[n], u_trj[n]) \n",
    "    \n",
    "    total += cost_final(x_trj[-1])\n",
    "\n",
    "    return total\n",
    "    \n",
    "# # Debug your code\n",
    "# cost_trj(x_trj, u_trj)"
   ]
  },
  {
   "attachments": {},
   "cell_type": "markdown",
   "metadata": {},
   "source": [
    "### Bellman Recursion\n",
    "\n",
    "Now that we are warmed up, let's derive the actual algorithm. We start with the Bellman equation known from lecture defining optimality in a recursively backwards in time.\n",
    "\n",
    "$$\\begin{aligned} V(\\mathbf{x}[n]) = & \\min_{\\mathbf{u}[n]} \\quad \\ell(\\mathbf{x}[n], \\mathbf{u}[n])  + V(\\mathbf{x}[n+1]) \\\\ \\end{aligned}$$\n",
    "\n",
    "You may have noticed that we neglected a couple of constraints of the original problem formulation. The fully equivalent formulation is \n",
    "\n",
    "$$\\begin{aligned} \\min_{\\mathbf{u}[n]} \\quad & Q(\\mathbf{x}[n], \\mathbf{u}[n]), \\quad \\forall n\\in[0, N-1] \\\\ \\text{subject to} \\quad & Q(\\mathbf{x}[n], \\mathbf{u}[n]) = \\ell(\\mathbf{x}[n], \\mathbf{u}[n])  + V(\\mathbf{x}[n+1]) \\\\ & V(\\mathbf{x}[N]) =   \\ell_f(\\mathbf{x}[N]) \\\\ & \\mathbf{x}[n+1] = {\\bf      f}(\\mathbf{x}[n], \\mathbf{u}[n]), \\quad \\\\ & \\mathbf{x}[0] = \\mathbf{x}_0 \\end{aligned}$$\n",
    "\n",
    "The definition of a Q-function will become handy during the derivation of the algorithm.\n",
    "\n",
    "The key idea of iLQR is simple: Approximate the dynamics linearly and the costs quadratically around a nominal trajectory. We will expand all terms of the Q-function accordingly and optimize the resulting quadratic equation for an optimal linear control law in closed form. We will see that by applying the Bellman equation recursively backwards in time, the value function remains a quadratic.\n",
    "The linear and quadratic approximations are computed around the nominal state $\\bf \\bar{x} = \\bf x - \\delta \\bf x$ and the nominal control $\\bf \\bar{u} = \\bf u - \\delta \\bf u$. After applying the Bellman equation backwards in time from time $N$ to $0$ (the backward pass), we will update the nominal controls $\\bf \\bar{u}$ and states $\\bf \\bar{x}$ by applying the computed linear feedback law from the backward pass and rolling out the dynamics from the initial state $\\bf x_0$ to the final horizon $N$. Iterating between backwards and forwards pass optimizes the control problem.\n",
    "\n",
    "### Q-function Expansion\n",
    "\n",
    "Let's start by expanding all terms in the Q-function of the Bellman equation. The quadaratic cost function is\n",
    "\n",
    "$$\\begin{aligned} \\ell(\\mathbf{x}[n], \\mathbf{u}[n]) \\approx \\ell_n + \\begin{bmatrix}\\ell_{\\mathbf{x},n} \\\\  \\ell_{\\mathbf{u},n} \\end{bmatrix} ^T  \\begin{bmatrix} \\delta \\mathbf{x}[n] \\\\ \\delta \\mathbf{u}[n] \\end{bmatrix} + \\frac{1}{2}\\begin{bmatrix} \\delta \\mathbf{x}[n] \\\\ \\delta \\mathbf{u}[n] \\end{bmatrix} ^T \\begin{bmatrix}\\ell_{\\mathbf{xx},n} &  \\ell_{\\mathbf{ux},n}^T\\\\ \\ell_{\\mathbf{ux},n} & \\ell_{\\mathbf{uu},n}\\end{bmatrix} \\begin{bmatrix} \\delta \\mathbf{x}[n] \\\\ \\delta \\mathbf{u}[n] \\end{bmatrix},\\end{aligned}$$\n",
    "\n",
    "and the dynamics function is\n",
    "\n",
    "$$\\begin{aligned} x[n+1]= \\mathbf{f}(\\mathbf{x}[n], \\mathbf{u}[n]) \\approx \\mathbf{f}_n + \\begin{bmatrix}\\mathbf{f}_{\\mathbf{x},n} & \\mathbf{f}_{\\mathbf{u},n} \\end{bmatrix}  \\begin{bmatrix} \\delta \\mathbf{x}[n] \\\\ \\delta \\mathbf{u}[n] \\end{bmatrix}. \\end{aligned}$$\n",
    "\n",
    "Here, $\\ell = \\ell(\\bar{\\mathbf{x}}, \\bar{\\mathbf{u}})$ and $\\mathbf{f} = \\mathbf{f}(\\bar{\\mathbf{x}}, \\bar{\\mathbf{u}})$. $\\ell_\\mathbf{x}, \\ell_\\mathbf{u}, \\mathbf{f}_\\mathbf{x}, \\mathbf{f}_\\mathbf{u}$ are the gradients and Jacobians evaluated at $\\bar{\\mathbf{x}}$ and $\\bar{\\mathbf{u}}$. $\\ell_\\mathbf{xx}, \\ell_\\mathbf{ux}, \\ell_\\mathbf{uu}$ are the Hessians at $\\bar{\\mathbf{x}}$ and $\\bar{\\mathbf{u}}$. The expansion of the final cost follows analogously.\n",
    "The code to evaluate all the derivative terms is:"
   ]
  },
  {
   "cell_type": "code",
   "execution_count": 18,
   "metadata": {},
   "outputs": [],
   "source": [
    "def derivative_cost_stage(x, u):\n",
    "    # running_cost = cost_stage(x, u).backward()\n",
    "    l_x, l_u = jacobian(cost_stage, (x, u))\n",
    "    l_x = l_x.reshape([n_x,1])\n",
    "    l_u = l_u.reshape([n_u,1])\n",
    "    D2x, D2u = hessian(cost_stage, (x,u))\n",
    "    l_xx = D2x[0]\n",
    "    l_uu = D2u[1]\n",
    "    l_ux = D2u[0] \n",
    "    \n",
    "    F = jacobian(rk4singlestep_new, (x,u))\n",
    "    f_x = F[0]\n",
    "    f_u = F[1]\n",
    "    \n",
    "    return l_x, l_u, l_xx, l_ux, l_uu, f_x, f_u\n",
    "    \n",
    "\n",
    "def derivative_cost_final(x):\n",
    "    # The 1st and 2nd derivatives are \n",
    "    l_x = jacobian(cost_final, x).reshape([n_x,1])\n",
    "    l_xx = hessian(cost_final, x)\n",
    "    return l_x, l_xx"
   ]
  },
  {
   "cell_type": "code",
   "execution_count": null,
   "metadata": {},
   "outputs": [],
   "source": [
    "class derivatives():\n",
    "    def __init__(self, discrete_dynamics, pendulum_on_cart_continuous_dynamics, cost_stage, cost_final, n_x, n_u):\n",
    "        self.x_sym = np.array([sym.Variable(\"x_{}\".format(i)) for i in range(n_x)])\n",
    "        self.u_sym = np.array([sym.Variable(\"u_{}\".format(i)) for i in range(n_u)])\n",
    "        # self.t_sym = np.array([sym.Variable(\"t_{}\".format(i)) for i in range(N)])\n",
    "        x = self.x_sym\n",
    "        u = self.u_sym\n",
    "        # t = self.t_sym \n",
    "\n",
    "        l = cost_stage(x, u)\n",
    "        self.l_x = sym.Jacobian([l], x).ravel()\n",
    "        self.l_u = sym.Jacobian([l], u).ravel()\n",
    "        self.l_xx = sym.Jacobian(self.l_x, x)\n",
    "        self.l_ux = sym.Jacobian(self.l_u, x)\n",
    "        self.l_uu = sym.Jacobian(self.l_u, u)\n",
    "        \n",
    "        l_final = cost_final(x)\n",
    "        self.l_final_x = sym.Jacobian([l_final], x).ravel()\n",
    "        self.l_final_xx = sym.Jacobian(self.l_final_x, x)\n",
    "        \n",
    "        f = discrete_dynamics(pendulum_on_cart_continuous_dynamics, dt, t, x, u)\n",
    "        self.f_x = sym.Jacobian(f, x)\n",
    "        self.f_u = sym.Jacobian(f, u)\n",
    "    \n",
    "    def stage(self, x, u):\n",
    "        env = {self.x_sym[i]: x[i] for i in range(x.shape[0])}\n",
    "        env.update({self.u_sym[i]: u[i] for i in range(u.shape[0])})\n",
    "        \n",
    "        l_x = sym.Evaluate(self.l_x, env).ravel()\n",
    "        l_u = sym.Evaluate(self.l_u, env).ravel()\n",
    "        l_xx = sym.Evaluate(self.l_xx, env)\n",
    "        l_ux = sym.Evaluate(self.l_ux, env)\n",
    "        l_uu = sym.Evaluate(self.l_uu, env)\n",
    "        \n",
    "        f_x = sym.Evaluate(self.f_x, env)\n",
    "        f_u = sym.Evaluate(self.f_u, env)\n",
    "\n",
    "        return l_x, l_u, l_xx, l_ux, l_uu, f_x, f_u\n",
    "    \n",
    "    def final(self, x):\n",
    "        env = {self.x_sym[i]: x[i] for i in range(x.shape[0])}\n",
    "        \n",
    "        l_final_x = sym.Evaluate(self.l_final_x, env).ravel()\n",
    "        l_final_xx = sym.Evaluate(self.l_final_xx, env)\n",
    "        \n",
    "        return l_final_x, l_final_xx\n",
    "        \n",
    "# derivs = derivatives(discrete_dynamics, cost_stage, cost_final, n_x, n_u)\n",
    "derivs = derivatives(rk4singlestep, pendulum_on_cart_continuous_dynamics, cost_stage, cost_final, n_x, n_u)\n",
    "\n",
    "# Test the output:\n",
    "# x = np.array([0, 0, 0, 0, 0])\n",
    "# u = np.array([0, 0])\n",
    "# print(derivs.stage(x, u))\n",
    "# print(derivs.final(x))"
   ]
  },
  {
   "attachments": {},
   "cell_type": "markdown",
   "metadata": {},
   "source": [
    "Expanding the second term of the Q-function of the Bellman equation, i.e. the value function at the next state $\\mathbf{x}[n+1]$, to second order yields \n",
    "\n",
    "$$\\begin{aligned} V(\\mathbf{x}[n+1]) \\approx V_{n+1} + V_{\\mathbf{x},n+1}^\\top  \\delta \\mathbf{x}[n+1] + \\frac{1}{2}\\delta \\mathbf{x}[n+1]^\\top V_{\\mathbf{xx},n+1} \\delta \\mathbf{x}[n+1],\\end{aligned}$$\n",
    "\n",
    "where $\\delta \\mathbf{x}[n+1]$ is given by\n",
    "\n",
    "$$\\begin{aligned} \\delta \\mathbf{x}[n+1] & = \\mathbf{x}[n+1] - \\bar{\\mathbf{x}}[n+1] \\\\ & = \\mathbf{f}_n + \\begin{bmatrix}\\mathbf{f}_{\\mathbf{x},n} &  \\mathbf{f}_{\\mathbf{u},n} \\end{bmatrix}  \\begin{bmatrix} \\delta \\mathbf{x}[n] \\\\ \\delta \\mathbf{u}[n] \\end{bmatrix} -  \\bar{\\mathbf{x}}[n+1] \\\\ & = \\mathbf{f}_n + \\begin{bmatrix}\\mathbf{f}_{\\mathbf{x},n} & \\mathbf{f}_{\\mathbf{u},n} \\end{bmatrix}  \\begin{bmatrix} \\delta \\mathbf{x}[n] \\\\ \\delta \\mathbf{u}[n] \\end{bmatrix} -  \\mathbf{f}(\\bar{\\mathbf{x}}[n], \\bar{\\mathbf{u}}[n]) \\\\ & = \\begin{bmatrix}\\mathbf{f}_{\\mathbf{x},n} &  \\mathbf{f}_{\\mathbf{u},n} \\end{bmatrix}   \\begin{bmatrix} \\delta \\mathbf{x}[n] \\\\ \\delta \\mathbf{u}[n] \\end{bmatrix}. \\end{aligned}$$\n",
    "\n",
    "We have now expanded all terms of the Bellman equation and can regroup them in the form of\n",
    "\n",
    "$$\\begin{aligned} Q(\\mathbf{x}[n], \\mathbf{u}[n]) & \\approx \\ell_n + \\begin{bmatrix}\\ell_{\\mathbf{x},n} \\\\  \\ell_{\\mathbf{u},n} \\end{bmatrix} ^\\top  \\begin{bmatrix} \\delta \\mathbf{x}[n] \\\\ \\delta \\mathbf{u}[n] \\end{bmatrix} + \\frac{1}{2}\\begin{bmatrix} \\delta \\mathbf{x}[n] \\\\ \\delta \\mathbf{u}[n] \\end{bmatrix} ^\\top \\begin{bmatrix}\\ell_{\\mathbf{xx},n} &  \\ell_{\\mathbf{ux},n}^\\top\\\\  \\ell_{\\mathbf{ux},n} & \\ell_{\\mathbf{uu},n}\\end{bmatrix} \\begin{bmatrix} \\delta \\mathbf{x}[n] \\\\ \\delta \\mathbf{u}[n] \\end{bmatrix}, \\\\ & \\quad + V_{n+1} + V_{\\mathbf{x},n+1}^\\top  \\delta \\mathbf{x}[n+1] + \\frac{1}{2}\\delta \\mathbf{x}[n+1]^\\top V_{\\mathbf{xx},n+1} \\delta \\mathbf{x}[n+1], \\\\& = Q_n + \\begin{bmatrix} Q_{\\mathbf{x},n} \\\\  Q_{\\mathbf{u},n} \\end{bmatrix} ^\\top  \\begin{bmatrix} \\delta \\mathbf{x}[n] \\\\ \\delta \\mathbf{u}[n] \\end{bmatrix} + \\frac{1}{2}\\begin{bmatrix} \\delta \\mathbf{x}[n] \\\\ \\delta \\mathbf{u}[n] \\end{bmatrix} ^\\top \\begin{bmatrix} Q_{\\mathbf{xx},n} & Q_{\\mathbf{ux},n}^T\\\\  Q_{\\mathbf{ux},n} & Q_{\\mathbf{uu},n}\\end{bmatrix} \\begin{bmatrix} \\delta \\mathbf{x}[n] \\\\ \\delta \\mathbf{u}[n] \\end{bmatrix}.\\end{aligned}$$\n",
    "\n",
    "Find $Q_{\\mathbf{x},n}$, $Q_{\\mathbf{u},n}$, $Q_{\\mathbf{xx},n}$, $Q_{\\mathbf{ux},n}$, $Q_{\\mathbf{uu},n}$ in terms of $\\ell$ and $\\textbf{f}$ and their expansions by collecitng coefficients in $(\\cdot)\\delta \\mathbf{x}[n]$, $(\\cdot)\\delta \\mathbf{u}[n]$, $1/2 \\delta \\mathbf{x}[n]^\\top (\\cdot) \\delta \\mathbf{x}[n]$, and similar. Write your results in the corresponding function below."
   ]
  },
  {
   "cell_type": "code",
   "execution_count": 11,
   "metadata": {},
   "outputs": [],
   "source": [
    "def Q_terms(l_x, l_u, l_xx, l_ux, l_uu, f_x, f_u, V_x, V_xx):\n",
    "    # Define the Q-terms here\n",
    "    Q_x = l_x + f_x.T.matmul(V_x)\n",
    "    Q_u = l_u + f_u.T.matmul(V_x)\n",
    "    Q_xx = l_xx + (f_x.T.matmul(V_xx)).matmul(f_x)\n",
    "    Q_uu = l_uu + (f_u.T.matmul(V_xx)).matmul(f_u) \n",
    "    Q_ux = l_ux + (f_u.T.matmul(V_xx)).matmul(f_x)\n",
    "    \n",
    "    return Q_x, Q_u, Q_xx, Q_ux, Q_uu"
   ]
  },
  {
   "attachments": {},
   "cell_type": "markdown",
   "metadata": {},
   "source": [
    "### Q-function Optimization and Optimal Linear Control Law\n",
    "Amazing! Now that we have the Q-function in quadratic form, we can optimize for the optimal control gains in closed form.\n",
    "The original formulation, i.e. optimizing over $\\mathbf{u}[n]$, $$\\begin{aligned} \\min_{\\mathbf{u}[n]} \\quad & Q(\\mathbf{x}[n], \\mathbf{u}[n]),\\end{aligned}$$ is equivalent to optimzing over $\\delta \\mathbf{u}[n]$.\n",
    "\n",
    "$$\\begin{aligned} \\delta \\mathbf{u}[n]^* = {\\arg\\!\\min}_{\\delta \\mathbf{u}[n]} \\quad Q_n  + \\begin{bmatrix} Q_{\\mathbf{x},n} \\\\  Q_{\\mathbf{u},n} \\end{bmatrix} ^T  \\begin{bmatrix} \\delta \\mathbf{x}[n] \\\\ \\delta \\mathbf{u}[n] \\end{bmatrix} + \\frac{1}{2}\\begin{bmatrix} \\delta \\mathbf{x}[n] \\\\ \\delta \\mathbf{u}[n] \\end{bmatrix} ^T \\begin{bmatrix} Q_{\\mathbf{xx},n} &  Q_{\\mathbf{ux},n}^T\\\\  Q_{\\mathbf{ux},n} & Q_{\\mathbf{uu},n}\\end{bmatrix}\\begin{bmatrix} \\delta \\mathbf{x}[n] \\\\ \\delta \\mathbf{u}[n] \\end{bmatrix} = k + K \\delta \\mathbf{x}[n]\\end{aligned}$$\n",
    "\n",
    "It turns out that the optimal control is linear in $\\delta \\mathbf{x}[n]$.\n",
    "Solve the quadratic optimization analytically and derive equations for the feedforward gains $k$ and feedback gains $K$. Implement the function below. Hint: You do not need to compute $Q_\\mathbf{uu}^{-1}$ by hand."
   ]
  },
  {
   "attachments": {},
   "cell_type": "markdown",
   "metadata": {},
   "source": [
    "The feedforward gains $k$ and $K$ equal:\n",
    "<br>\n",
    "$K=-Q_{\\mathbf{uu},n}^{-1}Q_{\\mathbf{ux},n}$; \n",
    "<br>\n",
    "$k=-Q_{\\mathbf{uu},n}^{-1}Q_{\\mathbf{u},n}$"
   ]
  },
  {
   "cell_type": "code",
   "execution_count": 12,
   "metadata": {},
   "outputs": [],
   "source": [
    "def gains(Q_uu, Q_u, Q_ux):\n",
    "    Q_uu_inv = torch.linalg.inv(Q_uu)\n",
    "    # Implement the feedforward gain k and feedback gain K.\n",
    "    k = -Q_uu_inv.matmul(Q_u)\n",
    "    K = -Q_uu_inv.matmul(Q_ux)\n",
    "    \n",
    "    return k, K"
   ]
  },
  {
   "attachments": {},
   "cell_type": "markdown",
   "metadata": {},
   "source": [
    "### Value Function Backward Update\n",
    "We are almost done! We need to derive the backwards update equation for the value function. We simply plugin the optimal control $\\delta \\mathbf{u}[n]^* = k + K \\delta \\mathbf{x}[n]$ back into the Q-function which yields the value function\n",
    "\n",
    "$$\\begin{aligned} V(\\mathbf{x}[n]) \\approx V_{n} + V_{\\mathbf{x},n}^T  \\delta \\mathbf{x}[n] + \\frac{1}{2}\\delta \\mathbf{x}[n]^T V_{\\mathbf{xx},n} \\delta \\mathbf{x}[n] = Q_n + \\begin{bmatrix} Q_{\\mathbf{x},n} \\\\  Q_{\\mathbf{u},n} \\end{bmatrix}^T  \\begin{bmatrix} \\delta \\mathbf{x}[n] \\\\ \\delta \\mathbf{u}[n]^* \\end{bmatrix} + \\frac{1}{2}\\begin{bmatrix} \\delta \\mathbf{x}[n] \\\\ \\delta \\mathbf{u}[n]^* \\end{bmatrix}^T \\begin{bmatrix} Q_{\\mathbf{xx},n} &  Q_{\\mathbf{ux},n}^T\\\\  Q_{\\mathbf{ux},n} & Q_{\\mathbf{uu},n}\\end{bmatrix} \\begin{bmatrix} \\delta \\mathbf{x}[n] \\\\ \\delta \\mathbf{u}[n]^* \\end{bmatrix}. \\end{aligned}$$\n",
    "\n",
    "Compare terms in $(\\cdot) \\delta \\mathbf{x}[n]$ and $ 1/2 \\delta \\mathbf{x}[n]^T (\\cdot)  \\delta \\mathbf{x}[n]$, find $V_{\\mathbf{x},n}$, and $V_{\\mathbf{xx},n}$ and implement the corresponding function below.\n",
    "\n",
    "IMPORTANT: Do not simplify the expression you obtain for $V_{x}$ and $V_{xx}$ by assuming that $k$ and $K$ have the form computed by the function `gains`."
   ]
  },
  {
   "cell_type": "code",
   "execution_count": 20,
   "metadata": {},
   "outputs": [],
   "source": [
    "def V_terms(Q_x, Q_u, Q_xx, Q_ux, Q_uu, K, k):\n",
    "    # Implement V_x and V_xx, hint: use the A.dot(B) function for matrix multiplcation.\n",
    "\n",
    "    # V_x = Q_x + K.matmul(Q_u) + Q_ux.matmul(k) + (k.matmul(Q_uu)).matmul(K) \n",
    "    # V_xx = Q_xx + Q_ux.matmul(K) + K.matmul(Q_ux) + (K.matmul(Q_uu)).matmul(K) \n",
    "    V_x = Q_x + K.T.matmul(Q_u) + Q_ux.T.matmul(k) + (K.T.matmul(Q_uu)).matmul(k) \n",
    "    V_xx = Q_xx + K.T.matmul(Q_ux) + Q_ux.T.matmul(K) + (K.T.matmul(Q_uu)).matmul(K) \n",
    "    # V_x = Q_x + K * Q_u + Q_ux * k + (k.matmul(Q_uu)).matmul(K)  \n",
    "    # V_xx = Q_xx + Q_ux.T.matmul(K) + K.T.matmul(Q_ux) + (K.T.matmul(Q_uu)).matmul(K) \n",
    "    \n",
    "    \n",
    "    return V_x, V_xx"
   ]
  },
  {
   "attachments": {},
   "cell_type": "markdown",
   "metadata": {},
   "source": [
    "### Expected Cost Reduction\n",
    "We can also estimate by how much we expect to reduce the cost by applying the optimal controls. Simply subtract the previous nominal Q-value ($\\delta \\mathbf{x}[n] = 0$ and $\\delta \\mathbf{u}[n]=0$) from the value function.  The result is implemented below and is a useful aid in checking how accurate the quadratic approximation is during convergence of iLQR and adapting stepsize and regularization."
   ]
  },
  {
   "cell_type": "code",
   "execution_count": 14,
   "metadata": {},
   "outputs": [],
   "source": [
    "def expected_cost_reduction(Q_u, Q_uu, k):\n",
    "    return -Q_u.matmul(k) - 0.5 * (k.T.matmul(Q_uu)).matmul(k)"
   ]
  },
  {
   "attachments": {},
   "cell_type": "markdown",
   "metadata": {},
   "source": [
    "## Linearization Error\n",
    "The linear model we have built above is very accurate accurate in the vicinity of the equilibrium point, but can lead to very bad predictions if our state is far away from the equilibrium.\n",
    "\n",
    "The following function, for a given state $\\mathbf{x}$ and control $\\mathbf{u}$, evaluates the linearization error:\n",
    "$$e(\\mathbf{x}, \\mathbf{u}) = \\| {\\bf f}(\\mathbf{x}, \\mathbf{u}) - {\\bf f_{\\text{lin}}}(\\mathbf{x}, \\mathbf{u}) \\|$$"
   ]
  },
  {
   "attachments": {},
   "cell_type": "markdown",
   "metadata": {},
   "source": [
    "### Forward Pass\n",
    "We have now all the ingredients to implement the forward pass and the backward pass of iLQR. In the forward pass, at each timestep the new updated control $\\mathbf{u}' =  \\bar{\\mathbf{u}} + k + K (x' - \\bar{\\mathbf{x}})$ is applied and the dynamis propagated based on the updated control. The nominal control and state trajectory $\\bar{\\mathbf{u}}, \\bar{\\mathbf{x}}$ with which we computed $k$ and $K$ are then updated and we receive a new set of state and control trajectories."
   ]
  },
  {
   "cell_type": "code",
   "execution_count": 15,
   "metadata": {},
   "outputs": [],
   "source": [
    "def forward_pass(x_trj, u_trj, k_trj, K_trj):\n",
    "    x_trj_new = torch.zeros(x_trj.shape)\n",
    "    x_trj_new[0,:] = x_trj[0,:]\n",
    "    u_trj_new = torch.zeros(u_trj.shape)\n",
    "\n",
    "    # TODO: Implement the forward pass here\n",
    "    for n in range(u_trj.shape[0]):\n",
    "        u_trj_new[n,:] = u_trj[n] + k_trj[n] + K_trj[n].matmul(x_trj_new[n]-x_trj[n])# Apply feedback law\n",
    "        # u_trj_new[n,:] = u_trj[n] + k_trj[n] + K_trj[n].dot(x_trj_new[n]-x_goal)# Apply feedback law\n",
    "        # x_trj_new[n+1,:] = discrete_dynamics(x_trj_new[n], u_trj_new[n])# Apply dynamics\n",
    "        # x_trj_new[n+1,:] = rk4singlestep(pendulum_on_cart_continuous_dynamics, dt, t[n], x_trj_new[n], u_trj_new[n])\n",
    "        x_trj_new[n+1,:] = rk4singlestep_new(x_trj_new[n], u_trj_new[n])\n",
    "    return x_trj_new, u_trj_new"
   ]
  },
  {
   "attachments": {},
   "cell_type": "markdown",
   "metadata": {},
   "source": [
    "### Backward Pass\n",
    "The backward pass starts from the terminal boundary condition $V(\\mathbf{x}[N]) =   \\ell_f(\\mathbf{x}[N])$, such that $V_{\\mathbf{x},N} = \\ell_{\\mathbf{x},f}$ and $V_{\\mathbf{xx},N} = \\ell_{\\mathbf{xx},f}$. In the backwards loop terms for the Q-function at $n$ are computed based on the quadratic value function approximation at $n+1$ and the derivatives and hessians of dynamics and cost functions at $n$. To solve for the gains $k$ and $K$ an inversion of the matrix $Q_\\mathbf{uu}$ is necessary. To ensure invertability and to improve conditioning we add a diagonal matrix to $Q_\\mathbf{uu}$. This is equivalent to adding a quadratic penalty on the distance of the new control trajectory from the control trajectory of the previous iteration. The result is a smaller stepsize and more conservative convergence properties."
   ]
  },
  {
   "cell_type": "code",
   "execution_count": 16,
   "metadata": {},
   "outputs": [],
   "source": [
    "def backward_pass(x_trj, u_trj, regu):\n",
    "    k_trj = torch.zeros([u_trj.shape[0], u_trj.shape[1]])\n",
    "    K_trj = torch.zeros([u_trj.shape[0], u_trj.shape[1], x_trj.shape[1]])\n",
    "    expected_cost_redu = 0\n",
    "    # Set terminal boundary condition here (V_x, V_xx)\n",
    "    V_x, V_xx = derivative_cost_final(x_trj[-1])\n",
    "\n",
    "    for n in range(u_trj.shape[0]-1, -1, -1):\n",
    "        # First compute derivatives, then the Q-terms \n",
    "        l_x, l_u, l_xx, l_ux, l_uu, f_x, f_u = derivative_cost_stage(x_trj[n], u_trj[n]) #derivs.stage(x_trj[n], u_trj[n])\n",
    "        Q_x, Q_u, Q_xx, Q_ux, Q_uu = Q_terms(l_x, l_u, l_xx, l_ux, l_uu, f_x, f_u, V_x, V_xx)\n",
    "        # We add regularization to ensure that Q_uu is invertible and nicely conditioned\n",
    "        # i.e., we apply regularization term to the local cost to account for the non-positive-definite second order \n",
    "        # Hessian's computed on the cost:\n",
    "        Q_uu_regu = Q_uu + torch.eye(Q_uu.shape[0])*regu\n",
    "        k, K = gains(Q_uu_regu, Q_u, Q_ux)\n",
    "        k_trj[n,:] = k\n",
    "        K_trj[n,:,:] = K\n",
    "        V_x, V_xx = V_terms(Q_x, Q_u, Q_xx, Q_ux, Q_uu, K, k)\n",
    "        expected_cost_redu += expected_cost_reduction(Q_u, Q_uu, k)\n",
    "    return k_trj, K_trj, expected_cost_redu"
   ]
  },
  {
   "attachments": {},
   "cell_type": "markdown",
   "metadata": {},
   "source": [
    "### Main Loop\n",
    "\n",
    "The main iLQR loop consists of iteratively applying the forward and backward pass. The regularization is adapted based on whether the new control and state trajectories improved the cost. We lower the regularization if the total cost was reduced and accept the new trajectory pair. If the total cost did not decrease, the trajectory pair is rejected and the regularization is increased. You may want to test the algorithm with deactivated regularization and observe the changed behavior.\n",
    "The main loop stops if the maximum number of iterations is reached or the expected reduction is below a certain threshold.\n",
    "\n",
    "If you have correctly implemented all subparts of the iLQR you should see that the car plans to drive around the circle."
   ]
  },
  {
   "cell_type": "code",
   "execution_count": 41,
   "metadata": {},
   "outputs": [],
   "source": [
    "def run_ilqr(x0, N, max_iter=50, regu_init=100):\n",
    "    # First forward rollout\n",
    "    u_trj = torch.randn(N-1, n_u, requires_grad=True)*0.0001\n",
    "    x_trj = rollout(x0, u_trj)\n",
    "    total_cost = cost_trj(x_trj, u_trj)\n",
    "    regu = regu_init\n",
    "    max_regu = 10000\n",
    "    min_regu = 0.01\n",
    "    \n",
    "    # Setup traces\n",
    "    cost_trace = [total_cost]\n",
    "    expected_cost_redu_trace = []\n",
    "    redu_ratio_trace = [1]\n",
    "    redu_trace = []\n",
    "    regu_trace = [regu]\n",
    "    \n",
    "    # Run main loop\n",
    "    for it in range(max_iter):\n",
    "        # Backward and forward pass\n",
    "        k_trj, K_trj, expected_cost_redu = backward_pass(x_trj, u_trj, regu)\n",
    "        x_trj_new, u_trj_new = forward_pass(x_trj, u_trj, k_trj, K_trj)\n",
    "\n",
    "        # Evaluate new trajectory\n",
    "        total_cost = cost_trj(x_trj_new, u_trj_new)\n",
    "        cost_redu = cost_trace[-1] - total_cost\n",
    "        redu_ratio = cost_redu / abs(expected_cost_redu)\n",
    "        # Accept or reject iteration\n",
    "        if cost_redu > 0:\n",
    "            # Improvement! Accept new trajectories and lower regularization\n",
    "            redu_ratio_trace.append(redu_ratio)\n",
    "            cost_trace.append(total_cost)\n",
    "            x_trj = x_trj_new\n",
    "            u_trj = u_trj_new\n",
    "            regu *= 0.7\n",
    "        else:\n",
    "            # Reject new trajectories and increase regularization\n",
    "            regu *= 2.0\n",
    "            cost_trace.append(cost_trace[-1])\n",
    "            redu_ratio_trace.append(0)\n",
    "        regu = min(max(regu, min_regu), max_regu)\n",
    "        regu_trace.append(regu)\n",
    "        redu_trace.append(cost_redu)\n",
    "\n",
    "        # Early termination if expected improvement is small\n",
    "        if expected_cost_redu <= 1e-6:\n",
    "            break\n",
    "\n",
    "\n",
    "    return x_trj, u_trj, cost_trace, regu_trace, redu_ratio_trace, redu_trace\n",
    "\n",
    "# Setup problem and call iLQR\n",
    "x0 = torch.tensor([1.0, 0.0, 0.0*np.pi, 0.0], requires_grad=True)\n",
    "# N = 50\n",
    "max_iter=50\n",
    "regu_init=100\n",
    "x_trj, u_trj, cost_trace, regu_trace, redu_ratio_trace, redu_trace = run_ilqr(x0, num_time_pts, max_iter, regu_init)\n",
    "\n",
    "\n",
    "# Plot\n",
    "# plt.rcParams['text.usetex'] = True\n",
    "lw_=2\n",
    "# plt.subplot(3, 1, 1)\n",
    "# plt.plot(u_trj,lw=lw_)\n",
    "# plt.xlabel('Episode')\n",
    "# plt.ylabel('Control input')\n",
    "# plt.grid(True)\n",
    "\n",
    "# plt.subplot(3, 1, 2)\n",
    "# plt.plot(x_trj[:,0],lw=lw_,label='x')\n",
    "# plt.plot(x_trj[:,1],lw=lw_,label='v')\n",
    "# plt.plot(x_trj[:,2],lw=lw_,label=r'$\\theta$')\n",
    "# plt.plot(x_trj[:,3],lw=lw_,label=r'$\\omega$')\n",
    "# plt.xlabel('Episode')\n",
    "# plt.ylabel('State')\n",
    "# plt.grid(True)\n",
    "# plt.legend()\n",
    "\n",
    "# plt.subplot(3, 1, 3)\n",
    "# plt.plot(lin_error_trace, lw=lw_)\n",
    "# plt.xlabel('# iterations')\n",
    "# plt.ylabel('linear error')\n",
    "# plt.grid(True)\n",
    "\n",
    "# plt.tight_layout()\n",
    "\n",
    "ax1 = plt.subplot(211)\n",
    "# ax1.margins(0.05)           # Default margin is 0.05, value 0 means fit\n",
    "\n",
    "# ax1.plot(t, x_trj[:,0],lw=lw_,label = 'x', color = 'b')\n",
    "# ax1.plot(t, x_trj[:,1],lw=lw_,linestyle = '-', color = 'm', label='v')\n",
    "# ax1.plot(t, x_trj[:,2],lw=lw_, color='g', label=r'$\\theta$')\n",
    "# ax1.plot(t, x_trj[:,3],lw=lw_,linestyle = '--', color = 'r', label=r'$\\omega$')\n",
    "\n",
    "ax1.plot(t.cpu().numpy(), x_trj[:,0].cpu().detach().numpy(),lw=lw_,label = 'x', color = 'b')\n",
    "ax1.plot(t.cpu().numpy(), x_trj[:,1].cpu().detach().numpy(),lw=lw_,linestyle = '-', color = 'm', label='v')\n",
    "ax1.plot(t.cpu().numpy(), x_trj[:,2].cpu().detach().numpy(),lw=lw_, color='g', label=r'$\\theta$')\n",
    "ax1.plot(t.cpu().numpy(), x_trj[:,3].cpu().detach().numpy(),lw=lw_,linestyle = '--', color = 'r', label=r'$\\omega$')\n",
    " \n",
    "# ax1.axhline(y = np.pi, color = 'k', linestyle = '--', lw=2, label = r'$\\pi$')\n",
    "# Add ytick label of the theta target goal (pi)\n",
    "lines = plt.plot(t.cpu().numpy(), x_trj[:,0].cpu().detach().numpy())\n",
    "ax0 = lines[0].axes\n",
    "ax0.set_yticks(list(ax0.get_yticks())+[np.pi])\n",
    "labels = [item.get_text() for item in ax0.get_yticklabels()]\n",
    "labels[-1] = r'$\\pi$'\n",
    "ax0.set_yticklabels(labels)\n",
    "\n",
    "ax1.set_xlabel('Time')\n",
    "ax1.set_ylabel('State')\n",
    "ax1.legend(ncol=2, loc='lower right')\n",
    "ax1.grid(True)\n",
    "\n",
    "ax2 = plt.subplot(212)\n",
    "# ax2.margins(2, 2)           # Values >0.0 zoom out\n",
    "ax2.plot(t[:-1].cpu().numpy(), u_trj.cpu().detach().numpy(),lw=lw_)\n",
    "ax2.set_xlabel('Time')\n",
    "ax2.set_ylabel('Control input')\n",
    "ax2.grid(True)\n",
    "\n",
    "plt.tight_layout()\n",
    "\n",
    "fig_path = 'C:\\\\Users\\\\solom\\\\PhD_research\\\\KalmanNet_control\\\\LQGnet\\\\iLQG\\\\iLQR.pdf'\n",
    "# fig.savefig(fig_path, bbox_inches=\"tight\")\n",
    "plt.savefig(fig_path)"
   ]
  },
  {
   "cell_type": "code",
   "execution_count": 127,
   "metadata": {},
   "outputs": [
    {
     "name": "stderr",
     "output_type": "stream",
     "text": [
      "/tmp/ipykernel_21010/2695651614.py:3: MatplotlibDeprecationWarning: Auto-removal of overlapping axes is deprecated since 3.6 and will be removed two minor releases later; explicitly call ax.remove() as needed.\n",
      "  plt.subplot(2, 2, 1)\n"
     ]
    },
    {
     "data": {
      "image/png": "[encoded data removed]",
      "text/plain": [
       "<Figure size 1000x600 with 4 Axes>"
      ]
     },
     "metadata": {},
     "output_type": "display_data"
    }
   ],
   "source": [
    "plt.subplots(figsize=(10,6))\n",
    "# Plot results\n",
    "plt.subplot(2, 2, 1)\n",
    "plt.plot(cost_trace)\n",
    "plt.xlabel('# Iteration')\n",
    "plt.ylabel('Total cost')\n",
    "plt.title('Cost trace')\n",
    "\n",
    "plt.subplot(2, 2, 2)\n",
    "delta_opt = (np.array(cost_trace) - cost_trace[-1])\n",
    "plt.plot(delta_opt)\n",
    "plt.yscale('log')\n",
    "plt.xlabel('# Iteration')\n",
    "plt.ylabel('Optimality gap')\n",
    "plt.title('Convergence plot')\n",
    "\n",
    "plt.subplot(2, 2, 3)\n",
    "plt.plot(redu_ratio_trace)\n",
    "plt.title('Ratio of actual reduction and expected reduction')\n",
    "plt.ylabel('Reduction ratio')\n",
    "plt.xlabel('# Iteration')\n",
    "\n",
    "plt.subplot(2, 2, 4)\n",
    "plt.plot(regu_trace)\n",
    "plt.title('Regularization trace')\n",
    "plt.ylabel('Regularization')\n",
    "plt.xlabel('# Iteration')\n",
    "plt.tight_layout()"
   ]
  },
  {
   "attachments": {},
   "cell_type": "markdown",
   "metadata": {},
   "source": [
    "### Convergence Analysis\n",
    "You can find some plots of the convergence traces captured throughout the iLQR solve process above. The convergence plot indicates that we have achieved superlinear convergence. In fact, iLQR achieves nearly second order convergence. In the case of linear convergence (e.g. gradient descent), the [graph would show a line](https://en.wikipedia.org/wiki/Rate_of_convergence). While the integrated regularization improves robustness it damps convergence in the early iteration steps. \n",
    "\n",
    "In the ideal case, the expected reduction and the actual reduction should be the same, i.e. the reduction ratio remains around 1. If that is the case, the quadratic approximation of costs and linear approximation of the dynamics are very accurate. If the ratio becomes significantly lower than 1, the regularization needs to be increased and thus the stepsize reduced."
   ]
  }
 ],
 "metadata": {
  "kernelspec": {
   "display_name": "KalmanNet_env",
   "language": "python",
   "name": "python3"
  },
  "language_info": {
   "codemirror_mode": {
    "name": "ipython",
    "version": 3
   },
   "file_extension": ".py",
   "mimetype": "text/x-python",
   "name": "python",
   "nbconvert_exporter": "python",
   "pygments_lexer": "ipython3",
   "version": "3.10.5 | packaged by conda-forge | (main, Jun 14 2022, 06:57:19) [MSC v.1929 64 bit (AMD64)]"
  },
  "orig_nbformat": 4,
  "vscode": {
   "interpreter": {
    "hash": "46319a525a8f16a3ba59534880c9a177c3c8c61847d735ecb90f9dc7bae0c839"
   }
  }
 },
 "nbformat": 4,
 "nbformat_minor": 2
}
